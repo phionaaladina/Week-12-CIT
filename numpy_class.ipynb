{
 "cells": [
  {
   "cell_type": "code",
   "execution_count": 1,
   "id": "5620b72e",
   "metadata": {},
   "outputs": [],
   "source": [
    "import numpy as np\n",
    "import pandas as pd"
   ]
  },
  {
   "cell_type": "markdown",
   "id": "c633e501",
   "metadata": {},
   "source": [
    "# ndenumerate()"
   ]
  },
  {
   "cell_type": "code",
   "execution_count": 9,
   "id": "1a5a8b85",
   "metadata": {},
   "outputs": [
    {
     "name": "stdout",
     "output_type": "stream",
     "text": [
      "1 (0,)\n",
      "2 (1,)\n",
      "3 (2,)\n"
     ]
    }
   ],
   "source": [
    "arra = np.array([1,2,3])\n",
    "for item, index in np.ndenumerate(arra):\n",
    "    print(index, item)\n"
   ]
  },
  {
   "cell_type": "markdown",
   "id": "b3562130",
   "metadata": {},
   "source": [
    "# iterating "
   ]
  },
  {
   "cell_type": "code",
   "execution_count": 7,
   "id": "d5a417d8",
   "metadata": {},
   "outputs": [
    {
     "data": {
      "text/plain": [
       "array([1, 2, 3, 4, 5, 6])"
      ]
     },
     "execution_count": 7,
     "metadata": {},
     "output_type": "execute_result"
    }
   ],
   "source": [
    "arr = np.array([1,2,3])\n",
    "arr1 = np.array([4,5,6])\n",
    "#flatten transforms it into a 1D array\n",
    "result = np.concatenate((arr.flatten(), arr1))\n",
    "result"
   ]
  },
  {
   "cell_type": "code",
   "execution_count": null,
   "id": "58818438",
   "metadata": {},
   "outputs": [],
   "source": []
  }
 ],
 "metadata": {
  "kernelspec": {
   "display_name": "Python 3 (ipykernel)",
   "language": "python",
   "name": "python3"
  },
  "language_info": {
   "codemirror_mode": {
    "name": "ipython",
    "version": 3
   },
   "file_extension": ".py",
   "mimetype": "text/x-python",
   "name": "python",
   "nbconvert_exporter": "python",
   "pygments_lexer": "ipython3",
   "version": "3.9.12"
  }
 },
 "nbformat": 4,
 "nbformat_minor": 5
}
