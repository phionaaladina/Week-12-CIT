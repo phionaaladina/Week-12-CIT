{
 "cells": [
  {
   "cell_type": "code",
   "execution_count": 23,
   "id": "7fe17d2a",
   "metadata": {},
   "outputs": [],
   "source": [
    "import statistics\n",
    "import pandas as pd\n",
    "import numpy as np"
   ]
  },
  {
   "cell_type": "markdown",
   "id": "910297f4",
   "metadata": {},
   "source": [
    "Question 1\n",
    "What is the result of the following code?"
   ]
  },
  {
   "cell_type": "code",
   "execution_count": 2,
   "id": "c19a93c4",
   "metadata": {},
   "outputs": [
    {
     "name": "stdout",
     "output_type": "stream",
     "text": [
      "[5 7 9]\n"
     ]
    }
   ],
   "source": [
    "a = np.array([1, 2, 3])\n",
    "b = np.array([4, 5, 6]) \n",
    "c = a + b\n",
    "print(c)\n",
    "#[5 7 9]"
   ]
  },
  {
   "cell_type": "markdown",
   "id": "5958d338",
   "metadata": {},
   "source": [
    "Question 2\n",
    "Create a numpy array of 10 zeros. and reshape it to (2, 5)"
   ]
  },
  {
   "cell_type": "code",
   "execution_count": 6,
   "id": "7514c6b1",
   "metadata": {},
   "outputs": [
    {
     "data": {
      "text/plain": [
       "array([0, 0, 0, 0, 0, 0, 0, 0, 0, 0])"
      ]
     },
     "execution_count": 6,
     "metadata": {},
     "output_type": "execute_result"
    }
   ],
   "source": [
    "my_array = np.zeros((10,), dtype=int)\n",
    "my_array"
   ]
  },
  {
   "cell_type": "code",
   "execution_count": 8,
   "id": "6f979ed7",
   "metadata": {},
   "outputs": [
    {
     "data": {
      "text/plain": [
       "array([[0, 0, 0, 0, 0],\n",
       "       [0, 0, 0, 0, 0]])"
      ]
     },
     "execution_count": 8,
     "metadata": {},
     "output_type": "execute_result"
    }
   ],
   "source": [
    "my_array = my_array.reshape(2,5)\n",
    "my_array"
   ]
  },
  {
   "cell_type": "markdown",
   "id": "b90d66e6",
   "metadata": {},
   "source": [
    "Question 3\n",
    "Find Mean, Mode, Median, Standard Deviation of the following data:"
   ]
  },
  {
   "cell_type": "code",
   "execution_count": 24,
   "id": "fa8186db",
   "metadata": {},
   "outputs": [],
   "source": [
    "data = [1, 2, 3, 4, 5, 6, 7, 8, 9, 10, 11, 12, 13, 14, 15, 16, 17, 18, 19, 20]"
   ]
  },
  {
   "cell_type": "code",
   "execution_count": 25,
   "id": "d182c808",
   "metadata": {},
   "outputs": [
    {
     "data": {
      "text/plain": [
       "10.5"
      ]
     },
     "execution_count": 25,
     "metadata": {},
     "output_type": "execute_result"
    }
   ],
   "source": [
    "Mean = np.mean(data)\n",
    "Mean"
   ]
  },
  {
   "cell_type": "code",
   "execution_count": 10,
   "id": "2dd1e2ea",
   "metadata": {},
   "outputs": [
    {
     "data": {
      "text/plain": [
       "10.5"
      ]
     },
     "execution_count": 10,
     "metadata": {},
     "output_type": "execute_result"
    }
   ],
   "source": [
    "Median = np.median(data)\n",
    "Median"
   ]
  },
  {
   "cell_type": "code",
   "execution_count": 13,
   "id": "6743a0f2",
   "metadata": {},
   "outputs": [
    {
     "data": {
      "text/plain": [
       "1"
      ]
     },
     "execution_count": 13,
     "metadata": {},
     "output_type": "execute_result"
    }
   ],
   "source": [
    "Mode= statistics.mode(data)\n",
    "Mode"
   ]
  },
  {
   "cell_type": "code",
   "execution_count": 17,
   "id": "9c134472",
   "metadata": {},
   "outputs": [
    {
     "data": {
      "text/plain": [
       "2.581988897471611"
      ]
     },
     "execution_count": 17,
     "metadata": {},
     "output_type": "execute_result"
    }
   ],
   "source": [
    "Standard_deviation = np.std(data)\n",
    "Standard_deviation\n"
   ]
  },
  {
   "cell_type": "markdown",
   "id": "f7b94160",
   "metadata": {},
   "source": [
    "Question 4\n",
    "create a 6x6 numpy array with random values and find the min and max values"
   ]
  },
  {
   "cell_type": "code",
   "execution_count": 15,
   "id": "71baf0b5",
   "metadata": {},
   "outputs": [
    {
     "name": "stdout",
     "output_type": "stream",
     "text": [
      "[[0.93480076 0.48117758 0.05074889 0.7944722  0.77125966 0.78637155]\n",
      " [0.05399935 0.77337995 0.92153872 0.23585683 0.6888827  0.57893141]\n",
      " [0.75109833 0.69494523 0.03333476 0.68709949 0.46927758 0.14598365]\n",
      " [0.23632281 0.66301798 0.70678036 0.24148204 0.82948481 0.42349781]\n",
      " [0.86032868 0.9344951  0.63402743 0.30305419 0.70462207 0.56778614]\n",
      " [0.27918634 0.34240094 0.08953663 0.61048351 0.10010969 0.22298612]]\n",
      "Minimum and Maximum Values:\n",
      "0.03333475561279342 0.9348007586987082\n"
     ]
    }
   ],
   "source": [
    "myArray = np.random.random((6,6))\n",
    "print(myArray) \n",
    "myArraymin, myArraymax = myArray.min(), myArray.max()\n",
    "print(\"Minimum and Maximum Values:\")\n",
    "print(myArraymin, myArraymax)\n"
   ]
  },
  {
   "cell_type": "markdown",
   "id": "643264ed",
   "metadata": {},
   "source": [
    "Question 5\n",
    "create a 3D numpy array and reshape it to 2D"
   ]
  },
  {
   "cell_type": "code",
   "execution_count": 20,
   "id": "c2503a8e",
   "metadata": {},
   "outputs": [
    {
     "name": "stdout",
     "output_type": "stream",
     "text": [
      "3-d array: [[[ 8  8]\n",
      "  [75  4]]\n",
      "\n",
      " [[10  2]\n",
      "  [20 76]]\n",
      "\n",
      " [[76 33]\n",
      "  [20 19]]]\n"
     ]
    }
   ],
   "source": [
    "_array = np.array([[[8,8], [75, 4]], [[10, 2], [20, 76]],[[76,33],[20,19]]])\n",
    "print(\"3-d array:\",_array)"
   ]
  },
  {
   "cell_type": "code",
   "execution_count": 22,
   "id": "c03e375a",
   "metadata": {},
   "outputs": [
    {
     "name": "stdout",
     "output_type": "stream",
     "text": [
      "2-d array: [[ 8  8 75]\n",
      " [ 4 10  2]\n",
      " [20 76 76]\n",
      " [33 20 19]]\n"
     ]
    }
   ],
   "source": [
    "#reshape to 2D\n",
    "newarr = _array.reshape(4, 3)\n",
    "\n",
    "print(\"2-d array:\",newarr)"
   ]
  },
  {
   "cell_type": "markdown",
   "id": "74d2210b",
   "metadata": {},
   "source": [
    "Question 6\n",
    "create 1D array from this data\n",
    "\n",
    "    data = [[1, 2, 3], [4, 5, 6], [7, 8, 9]]"
   ]
  },
  {
   "cell_type": "code",
   "execution_count": 16,
   "id": "aea03716",
   "metadata": {},
   "outputs": [
    {
     "name": "stdout",
     "output_type": "stream",
     "text": [
      "[[1 2 3]\n",
      " [4 5 6]\n",
      " [7 8 9]]\n"
     ]
    }
   ],
   "source": [
    "data = [[1, 2, 3], [4, 5, 6], [7, 8, 9]]\n",
    "n = np.array(data)\n",
    "print(n)"
   ]
  },
  {
   "cell_type": "code",
   "execution_count": null,
   "id": "e420840f",
   "metadata": {},
   "outputs": [],
   "source": []
  }
 ],
 "metadata": {
  "kernelspec": {
   "display_name": "Python 3 (ipykernel)",
   "language": "python",
   "name": "python3"
  },
  "language_info": {
   "codemirror_mode": {
    "name": "ipython",
    "version": 3
   },
   "file_extension": ".py",
   "mimetype": "text/x-python",
   "name": "python",
   "nbconvert_exporter": "python",
   "pygments_lexer": "ipython3",
   "version": "3.9.12"
  }
 },
 "nbformat": 4,
 "nbformat_minor": 5
}
